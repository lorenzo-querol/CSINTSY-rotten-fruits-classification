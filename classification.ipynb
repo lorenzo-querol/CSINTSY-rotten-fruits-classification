{
 "cells": [
  {
   "attachments": {},
   "cell_type": "markdown",
   "metadata": {},
   "source": [
    "# Import Libraries"
   ]
  },
  {
   "cell_type": "code",
   "execution_count": 57,
   "metadata": {},
   "outputs": [],
   "source": [
    "import numpy as np\n",
    "import pandas as pd\n",
    "\n",
    "from sklearn.model_selection import cross_validate, StratifiedKFold\n",
    "from sklearn.neighbors import KNeighborsClassifier\n",
    "from sklearn.ensemble import RandomForestClassifier\n",
    "from sklearn.tree import DecisionTreeClassifier\n",
    "from sklearn.pipeline import Pipeline\n",
    "from sklearn.preprocessing import StandardScaler\n",
    "from sklearn.svm import SVC\n",
    "\n",
    "RANDOM_STATE = 42 # Used for reproducibility"
   ]
  },
  {
   "attachments": {},
   "cell_type": "markdown",
   "metadata": {},
   "source": [
    "# Define Evaluation Function"
   ]
  },
  {
   "cell_type": "code",
   "execution_count": 58,
   "metadata": {},
   "outputs": [],
   "source": [
    "def evaluate_model(pipeline, cv, X, y, params=None):\n",
    "\n",
    "    if params:\n",
    "        pipeline.set_params(**params)\n",
    "\n",
    "    # Needs to be weighted to account for class imbalance\n",
    "    scoring = ['balanced_accuracy', 'f1_weighted', 'precision_weighted', 'recall_weighted']\n",
    "\n",
    "    train_scores = cross_validate(pipeline,\n",
    "                                  X,\n",
    "                                  y,\n",
    "                                  scoring=scoring,\n",
    "                                  cv=cv,\n",
    "                                  n_jobs=-1,\n",
    "                                  return_train_score=True\n",
    "                                  )\n",
    "\n",
    "    print('\\nTraining')\n",
    "    print('Accuracy: %.4f' % np.mean(train_scores['train_balanced_accuracy']))\n",
    "    print('F1 Score: %.4f' % np.mean(train_scores['train_f1_weighted']))\n",
    "    print('Precision: %.4f' % np.mean(train_scores['train_precision_weighted']))\n",
    "    print('Recall: %.4f' % np.mean(train_scores['train_recall_weighted']))\n",
    "\n",
    "    print('\\nValidation')\n",
    "    print('Accuracy: %.4f' % np.mean(train_scores['test_balanced_accuracy']))\n",
    "    print('F1 Score: %.4f' % np.mean(train_scores['test_f1_weighted']))\n",
    "    print('Precision: %.4f' % np.mean(train_scores['test_precision_weighted']))\n",
    "    print('Recall: %.4f' % np.mean(train_scores['test_recall_weighted']))"
   ]
  },
  {
   "attachments": {},
   "cell_type": "markdown",
   "metadata": {},
   "source": [
    "# Load Data"
   ]
  },
  {
   "cell_type": "code",
   "execution_count": 59,
   "metadata": {},
   "outputs": [
    {
     "name": "stdout",
     "output_type": "stream",
     "text": [
      "(2723,)\n",
      "(2723, 28)\n"
     ]
    }
   ],
   "source": [
    "df = pd.read_csv('fruits_dataset.csv')\n",
    "\n",
    "targets = df['class']\n",
    "features = df.drop('class', axis=1)\n",
    "classnames = targets.unique()\n",
    "\n",
    "# Verify shapes of targets and features\n",
    "print(targets.shape)\n",
    "print(features.shape)"
   ]
  },
  {
   "cell_type": "code",
   "execution_count": 76,
   "metadata": {},
   "outputs": [
    {
     "name": "stdout",
     "output_type": "stream",
     "text": [
      "\n",
      "Training\n",
      "Accuracy: 0.9075\n",
      "F1 Score: 0.9068\n",
      "Precision: 0.9078\n",
      "Recall: 0.9075\n",
      "\n",
      "Validation\n",
      "Accuracy: 0.8105\n",
      "F1 Score: 0.8080\n",
      "Precision: 0.8105\n",
      "Recall: 0.8098\n"
     ]
    }
   ],
   "source": [
    "pipeline = Pipeline([\n",
    "    ('scaler', StandardScaler()),\n",
    "    # ('imputer', SimpleImputer(missing_values=np.nan, strategy='mean')),\n",
    "    ('classifier', KNeighborsClassifier(n_neighbors=3))\n",
    "])\n",
    "\n",
    "# Ensures equal distribution of classes in each fold\n",
    "cv = StratifiedKFold(n_splits=5, shuffle=True, random_state=RANDOM_STATE)\n",
    "evaluate_model(pipeline, cv, features, targets, None)"
   ]
  },
  {
   "cell_type": "code",
   "execution_count": null,
   "metadata": {},
   "outputs": [],
   "source": []
  }
 ],
 "metadata": {
  "kernelspec": {
   "display_name": ".venv",
   "language": "python",
   "name": "python3"
  },
  "language_info": {
   "codemirror_mode": {
    "name": "ipython",
    "version": 3
   },
   "file_extension": ".py",
   "mimetype": "text/x-python",
   "name": "python",
   "nbconvert_exporter": "python",
   "pygments_lexer": "ipython3",
   "version": "3.11.1"
  },
  "orig_nbformat": 4
 },
 "nbformat": 4,
 "nbformat_minor": 2
}
