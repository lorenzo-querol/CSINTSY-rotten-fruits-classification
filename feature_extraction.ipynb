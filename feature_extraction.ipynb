{
 "cells": [
  {
   "attachments": {},
   "cell_type": "markdown",
   "metadata": {},
   "source": [
    "* Querol, Lorenzo\n",
    "* Permito, Joshua\n",
    "* Pineda, Ralph\n",
    "* Abello, Hans Matthew"
   ]
  },
  {
   "cell_type": "markdown",
   "metadata": {},
   "source": [
    "# Import Libraries"
   ]
  },
  {
   "cell_type": "code",
   "execution_count": 36,
   "metadata": {},
   "outputs": [],
   "source": [
    "import os\n",
    "import glob\n",
    "\n",
    "import matplotlib.pyplot as plt\n",
    "import pandas as pd\n",
    "import numpy as np\n",
    "import cv2\n",
    "from tqdm.notebook import tqdm"
   ]
  },
  {
   "cell_type": "markdown",
   "metadata": {},
   "source": [
    "# Function Definitions"
   ]
  },
  {
   "cell_type": "code",
   "execution_count": 37,
   "metadata": {},
   "outputs": [],
   "source": [
    "\"\"\"\n",
    "Helper function to load images from a directory. Images are also converted to RGB.\n",
    "\n",
    "Inputs:\n",
    "- path: path to directory containing images\n",
    "\"\"\"\n",
    "def load_images(path):\n",
    "    images = []\n",
    "    filenames = os.listdir(path)\n",
    "\n",
    "    for filename in tqdm(filenames):\n",
    "        image = cv2.imread(os.path.join(path, filename))\n",
    "        image = cv2.cvtColor(image, cv2.COLOR_BGR2RGB)\n",
    "        images.append(image.astype(np.uint8))\n",
    "\n",
    "    return images\n",
    "\n",
    "\"\"\"\n",
    "Helper function organize images and labels\n",
    "\n",
    "Inputs: \n",
    "- dir: directory of images\n",
    "\"\"\"\n",
    "def get_images_and_labels(dir):\n",
    "    class_0 = load_images(f'{dir}/freshapples')\n",
    "    class_1 = load_images(f'{dir}/freshbanana')\n",
    "    class_2 = load_images(f'{dir}/freshoranges')\n",
    "    class_3 = load_images(f'{dir}/rottenapples')\n",
    "    class_4 = load_images(f'{dir}/rottenbanana')\n",
    "    class_5 = load_images(f'{dir}/rottenoranges')\n",
    "    \n",
    "    class_0_num_samples = len(class_0)\n",
    "    class_1_num_samples = len(class_1)\n",
    "    class_2_num_samples = len(class_2)\n",
    "    class_3_num_samples = len(class_3)\n",
    "    class_4_num_samples = len(class_4)\n",
    "    class_5_num_samples = len(class_5)\n",
    "\n",
    "    labels = np.array(\n",
    "        [0] * class_0_num_samples +\n",
    "        [1] * class_1_num_samples +\n",
    "        [2] * class_2_num_samples +\n",
    "        [3] * class_3_num_samples +\n",
    "        [4] * class_4_num_samples +\n",
    "        [5] * class_5_num_samples)\n",
    "\n",
    "    images = list(class_0) + list(class_1) + list(class_2) + \\\n",
    "        list(class_3) + list(class_4) + list(class_5)\n",
    "    \n",
    "    return images, labels\n",
    "\n",
    "\"\"\"\n",
    "Helper function to plot images\n",
    "\n",
    "Inputs: \n",
    "- images: list of images to plot\n",
    "\"\"\"\n",
    "def plot_images(images):\n",
    "    plt.figure(figsize=(9, 9))\n",
    "\n",
    "    for i, image in enumerate(images[0:25]):\n",
    "        plt.subplot(5, 5, i+1)\n",
    "        plt.xticks([])\n",
    "        plt.yticks([])\n",
    "        plt.grid(False)\n",
    "        plt.imshow(image)\n",
    "        \n",
    "    plt.show()"
   ]
  },
  {
   "cell_type": "markdown",
   "metadata": {},
   "source": [
    "# Load Images"
   ]
  },
  {
   "cell_type": "code",
   "execution_count": 38,
   "metadata": {},
   "outputs": [],
   "source": [
    "main_dir = './subsampled_fruits_dataset'\n",
    "train_dir = f'{main_dir}/train'\n",
    "test_dir = f'{main_dir}/test'\n",
    "\n",
    "classnames = ['freshapples', 'freshbanana', 'freshoranges',\n",
    "              'rottenapples', 'rottenbanana', 'rottenoranges']\n",
    "\n",
    "idx2class = {i: classname for i, classname in enumerate(classnames)}\n",
    "\n",
    "train_paths = glob.glob(f'{train_dir}/*/*.jpg', recursive=True)\n",
    "test_paths = glob.glob(f'{test_dir}/*/*.jpg', recursive=True)"
   ]
  },
  {
   "cell_type": "code",
   "execution_count": 39,
   "metadata": {},
   "outputs": [
    {
     "data": {
      "application/vnd.jupyter.widget-view+json": {
       "model_id": "34e5d2c709a24983af789015e7ec6193",
       "version_major": 2,
       "version_minor": 0
      },
      "text/plain": [
       "  0%|          | 0/423 [00:00<?, ?it/s]"
      ]
     },
     "metadata": {},
     "output_type": "display_data"
    },
    {
     "data": {
      "application/vnd.jupyter.widget-view+json": {
       "model_id": "2aba3387ca424540a7d3e95b30866bde",
       "version_major": 2,
       "version_minor": 0
      },
      "text/plain": [
       "  0%|          | 0/395 [00:00<?, ?it/s]"
      ]
     },
     "metadata": {},
     "output_type": "display_data"
    },
    {
     "data": {
      "application/vnd.jupyter.widget-view+json": {
       "model_id": "d5428b84883a4cb79bd01bd658de7a19",
       "version_major": 2,
       "version_minor": 0
      },
      "text/plain": [
       "  0%|          | 0/366 [00:00<?, ?it/s]"
      ]
     },
     "metadata": {},
     "output_type": "display_data"
    },
    {
     "data": {
      "application/vnd.jupyter.widget-view+json": {
       "model_id": "496c3481349048168020c3ac24b47325",
       "version_major": 2,
       "version_minor": 0
      },
      "text/plain": [
       "  0%|          | 0/585 [00:00<?, ?it/s]"
      ]
     },
     "metadata": {},
     "output_type": "display_data"
    },
    {
     "data": {
      "application/vnd.jupyter.widget-view+json": {
       "model_id": "b60078c2815e4cd5a2b43687a4aee67b",
       "version_major": 2,
       "version_minor": 0
      },
      "text/plain": [
       "  0%|          | 0/556 [00:00<?, ?it/s]"
      ]
     },
     "metadata": {},
     "output_type": "display_data"
    },
    {
     "data": {
      "application/vnd.jupyter.widget-view+json": {
       "model_id": "b8bdd1223a854354a55c9564fca4dc8a",
       "version_major": 2,
       "version_minor": 0
      },
      "text/plain": [
       "  0%|          | 0/398 [00:00<?, ?it/s]"
      ]
     },
     "metadata": {},
     "output_type": "display_data"
    },
    {
     "data": {
      "application/vnd.jupyter.widget-view+json": {
       "model_id": "10c88f000dff4c3e860af2b9382cd12c",
       "version_major": 2,
       "version_minor": 0
      },
      "text/plain": [
       "  0%|          | 0/98 [00:00<?, ?it/s]"
      ]
     },
     "metadata": {},
     "output_type": "display_data"
    },
    {
     "data": {
      "application/vnd.jupyter.widget-view+json": {
       "model_id": "86368c9b98b74f339dd5741bfbcf96dd",
       "version_major": 2,
       "version_minor": 0
      },
      "text/plain": [
       "  0%|          | 0/95 [00:00<?, ?it/s]"
      ]
     },
     "metadata": {},
     "output_type": "display_data"
    },
    {
     "data": {
      "application/vnd.jupyter.widget-view+json": {
       "model_id": "e53452b2e1244e67aae06e424d050627",
       "version_major": 2,
       "version_minor": 0
      },
      "text/plain": [
       "  0%|          | 0/97 [00:00<?, ?it/s]"
      ]
     },
     "metadata": {},
     "output_type": "display_data"
    },
    {
     "data": {
      "application/vnd.jupyter.widget-view+json": {
       "model_id": "53579107f13042dcbe0c35a6d7417903",
       "version_major": 2,
       "version_minor": 0
      },
      "text/plain": [
       "  0%|          | 0/150 [00:00<?, ?it/s]"
      ]
     },
     "metadata": {},
     "output_type": "display_data"
    },
    {
     "data": {
      "application/vnd.jupyter.widget-view+json": {
       "model_id": "95cb296b700b42c09b317e2d635164c1",
       "version_major": 2,
       "version_minor": 0
      },
      "text/plain": [
       "  0%|          | 0/132 [00:00<?, ?it/s]"
      ]
     },
     "metadata": {},
     "output_type": "display_data"
    },
    {
     "data": {
      "application/vnd.jupyter.widget-view+json": {
       "model_id": "61998ec902fd4ea9ac3956bd21ff98ea",
       "version_major": 2,
       "version_minor": 0
      },
      "text/plain": [
       "  0%|          | 0/100 [00:00<?, ?it/s]"
      ]
     },
     "metadata": {},
     "output_type": "display_data"
    }
   ],
   "source": [
    "train_images, train_labels = get_images_and_labels(train_dir)\n",
    "test_images, test_labels = get_images_and_labels(test_dir)"
   ]
  },
  {
   "attachments": {},
   "cell_type": "markdown",
   "metadata": {},
   "source": [
    "# Driver Code"
   ]
  },
  {
   "cell_type": "code",
   "execution_count": 40,
   "metadata": {},
   "outputs": [],
   "source": [
    "from feature_extraction import extract_features\n",
    "\n",
    "def image_to_features(images, paths, labels):\n",
    "    segmented_images = []\n",
    "    columns = ['image', 'class', 'area', 'perimeter', 'circularity', 'convexity', 'red_mean', 'green_mean', 'blue_mean', 'red_std', 'green_std', 'blue_std', 'red_skew', 'green_skew',\n",
    "               'blue_skew', 'red_kurt', 'green_kurt', 'blue_kurt', 'h_mean', 's_mean', 'v_mean', 'h_std', 's_std', 'v_std', 'h_skew', 's_skew', 'v_skew', 'h_kurt', 's_kurt', 'v_kurt']\n",
    "\n",
    "    features_df = pd.DataFrame(columns=columns)\n",
    "\n",
    "    for i, image in enumerate(tqdm(images)):\n",
    "        # Apply segmentation and extract features\n",
    "        segmented_image, features = extract_features(image)\n",
    "\n",
    "        # Append segmented image to list\n",
    "        segmented_images.append(segmented_image)\n",
    "\n",
    "        # Append features to dataframe\n",
    "        feature_vector = {'image': paths[i], 'class': labels[i]}\n",
    "        feature_vector.update(features)\n",
    "        features_df = pd.concat([features_df, pd.DataFrame([feature_vector])], ignore_index=True)\n",
    "\n",
    "    features_df['class'] = features_df['class'].map(idx2class)\n",
    "\n",
    "    return features_df"
   ]
  },
  {
   "cell_type": "code",
   "execution_count": 41,
   "metadata": {},
   "outputs": [
    {
     "data": {
      "application/vnd.jupyter.widget-view+json": {
       "model_id": "d33831fcb59d4cc584998492f34b42b6",
       "version_major": 2,
       "version_minor": 0
      },
      "text/plain": [
       "  0%|          | 0/2723 [00:00<?, ?it/s]"
      ]
     },
     "metadata": {},
     "output_type": "display_data"
    },
    {
     "data": {
      "application/vnd.jupyter.widget-view+json": {
       "model_id": "b4c45c48476e4c40b7c6676c3134d7ae",
       "version_major": 2,
       "version_minor": 0
      },
      "text/plain": [
       "  0%|          | 0/672 [00:00<?, ?it/s]"
      ]
     },
     "metadata": {},
     "output_type": "display_data"
    }
   ],
   "source": [
    "train_features_df = image_to_features(train_images, train_paths, train_labels)\n",
    "test_features_df = image_to_features(test_images, test_paths, test_labels)"
   ]
  },
  {
   "attachments": {},
   "cell_type": "markdown",
   "metadata": {},
   "source": [
    "**Sanity Check!**"
   ]
  },
  {
   "cell_type": "code",
   "execution_count": 42,
   "metadata": {},
   "outputs": [
    {
     "name": "stdout",
     "output_type": "stream",
     "text": [
      "Train features:\n",
      "Number of samples: 2723\n",
      "Number of features: 28\n",
      "Number of unique classes: 6\n",
      "\n",
      "Test features:\n",
      "Number of samples: 672\n",
      "Number of features: 28\n",
      "Number of unique classes: 6\n"
     ]
    }
   ],
   "source": [
    "print(\"Train features:\")\n",
    "print(f\"Number of samples: {len(train_features_df)}\")\n",
    "print(f\"Number of features: {len(train_features_df.drop(columns=['image', 'class']).columns)}\")\n",
    "print(f\"Number of unique classes: {len(train_features_df['class'].unique())}\")\n",
    "\n",
    "print(\"\\nTest features:\")\n",
    "print(f\"Number of samples: {len(test_features_df)}\")\n",
    "print(f\"Number of features: {len(test_features_df.drop(columns=['image', 'class']).columns)}\")\n",
    "print(f\"Number of unique classes: {len(test_features_df['class'].unique())}\")"
   ]
  },
  {
   "attachments": {},
   "cell_type": "markdown",
   "metadata": {},
   "source": [
    "# Convert to CSV"
   ]
  },
  {
   "cell_type": "code",
   "execution_count": 44,
   "metadata": {},
   "outputs": [],
   "source": [
    "train_features_df.to_csv('train_fruits_dataset.csv', index=False)\n",
    "test_features_df.to_csv('test_fruits_dataset.csv', index=False)"
   ]
  }
 ],
 "metadata": {
  "kernelspec": {
   "display_name": "Python 3 (ipykernel)",
   "language": "python",
   "name": "python3"
  },
  "language_info": {
   "codemirror_mode": {
    "name": "ipython",
    "version": 3
   },
   "file_extension": ".py",
   "mimetype": "text/x-python",
   "name": "python",
   "nbconvert_exporter": "python",
   "pygments_lexer": "ipython3",
   "version": "3.11.1"
  }
 },
 "nbformat": 4,
 "nbformat_minor": 2
}
